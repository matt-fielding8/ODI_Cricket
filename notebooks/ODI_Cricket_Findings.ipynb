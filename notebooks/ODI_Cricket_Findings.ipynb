{
 "cells": [
  {
   "cell_type": "markdown",
   "metadata": {},
   "source": [
    "# Findings\n",
    "\n",
    "Here we'll hopefully answer all the questions raised before and during the exploration phase, and present them in some funky visuals.\n",
    "\n",
    "> Plan\n",
    "> - Team toss success and decsions\n",
    "> - Team win %, bat 1st, toss\n",
    "> - Team score vs RPO, with pearsons coefficient\n",
    "> - Matches played in April heatmap\n",
    "> - Australia losing games with higher score average\n",
    "> - Hypothesese:\n",
    "        - winning the toss is worse than losing the toss\n",
    "        - batting first is worse than batting second\n",
    "        - win % after winning / losing previous match"
   ]
  },
  {
   "cell_type": "code",
   "execution_count": null,
   "metadata": {},
   "outputs": [],
   "source": []
  }
 ],
 "metadata": {
  "kernelspec": {
   "display_name": "Python 3",
   "language": "python",
   "name": "python3"
  },
  "language_info": {
   "codemirror_mode": {
    "name": "ipython",
    "version": 3
   },
   "file_extension": ".py",
   "mimetype": "text/x-python",
   "name": "python",
   "nbconvert_exporter": "python",
   "pygments_lexer": "ipython3",
   "version": "3.7.3"
  }
 },
 "nbformat": 4,
 "nbformat_minor": 2
}
